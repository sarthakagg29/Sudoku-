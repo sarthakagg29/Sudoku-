{
 "cells": [
  {
   "cell_type": "code",
   "execution_count": 1,
   "id": "430c16cc",
   "metadata": {},
   "outputs": [
    {
     "name": "stdout",
     "output_type": "stream",
     "text": [
      "[3, 1, 6, 5, 7, 8, 4, 9, 2]\n",
      "[5, 2, 9, 1, 3, 4, 7, 6, 8]\n",
      "[4, 8, 7, 6, 2, 9, 5, 3, 1]\n",
      "[2, 6, 3, 4, 1, 5, 9, 8, 7]\n",
      "[9, 7, 4, 8, 6, 3, 1, 2, 5]\n",
      "[8, 5, 1, 7, 9, 2, 6, 4, 3]\n",
      "[1, 3, 8, 9, 4, 7, 2, 5, 6]\n",
      "[6, 9, 2, 3, 5, 1, 8, 7, 4]\n",
      "[7, 4, 5, 2, 8, 6, 3, 1, 9]\n",
      "\n"
     ]
    }
   ],
   "source": [
    "grid = [[3, 0, 6, 5, 0, 8, 4, 0, 0], \n",
    "         [5, 2, 0, 0, 0, 0, 0, 0, 0], \n",
    "         [0, 8, 7, 0, 0, 0, 0, 3, 1], \n",
    "         [0, 0, 3, 0, 1, 0, 0, 8, 0], \n",
    "         [9, 0, 0, 8, 6, 3, 0, 0, 5], \n",
    "         [0, 5, 0, 0, 9, 0, 6, 0, 0], \n",
    "         [1, 3, 0, 0, 0, 0, 2, 5, 0], \n",
    "         [0, 0, 0, 0, 0, 0, 0, 7, 4], \n",
    "         [0, 0, 5, 2, 0, 6, 3, 0, 0] ]\n",
    "\n",
    "def sudoku(grid,row,col):\n",
    "    if row == len(grid):\n",
    "        for i in grid:\n",
    "            print(i)\n",
    "        print()\n",
    "    elif col == len(grid[0]):\n",
    "        sudoku(grid,row+1,0)\n",
    "    elif grid[row][col] != 0:\n",
    "        sudoku(grid,row,col+1)\n",
    "    else:\n",
    "        for i in range(1,10):\n",
    "            if isItPossible(grid,row,col,i):\n",
    "                grid[row][col] = i\n",
    "                sudoku(grid,row,col+1)\n",
    "                grid[row][col] = 0\n",
    "\n",
    "def isItPossible(grid,row,col,val):\n",
    "    for i in range(len(grid[0])):\n",
    "        if grid[row][i] == val:\n",
    "            return False\n",
    "    for i in range(len(grid)):\n",
    "        if grid[i][col] == val:\n",
    "            return False\n",
    "    \n",
    "    # r = row-row%3\n",
    "    # c = col-col%3\n",
    "    r = (row//3)*3\n",
    "    c = (col//3)*3\n",
    "\n",
    "    for i in range(r,r+3):\n",
    "        for j in range(c,c+3):\n",
    "            if grid[i][j] == val:\n",
    "                return False\n",
    "    \n",
    "    return True\n",
    "\n",
    "\n",
    "sudoku(grid,0,0)"
   ]
  },
  {
   "cell_type": "code",
   "execution_count": null,
   "id": "39a233c2",
   "metadata": {},
   "outputs": [],
   "source": []
  }
 ],
 "metadata": {
  "kernelspec": {
   "display_name": "Python 3 (ipykernel)",
   "language": "python",
   "name": "python3"
  },
  "language_info": {
   "codemirror_mode": {
    "name": "ipython",
    "version": 3
   },
   "file_extension": ".py",
   "mimetype": "text/x-python",
   "name": "python",
   "nbconvert_exporter": "python",
   "pygments_lexer": "ipython3",
   "version": "3.10.5"
  }
 },
 "nbformat": 4,
 "nbformat_minor": 5
}
